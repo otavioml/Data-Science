{
  "nbformat": 4,
  "nbformat_minor": 0,
  "metadata": {
    "kernelspec": {
      "display_name": "Python 3",
      "language": "python",
      "name": "python3"
    },
    "language_info": {
      "codemirror_mode": {
        "name": "ipython",
        "version": 3
      },
      "file_extension": ".py",
      "mimetype": "text/x-python",
      "name": "python",
      "nbconvert_exporter": "python",
      "pygments_lexer": "ipython3",
      "version": "3.7.3"
    },
    "colab": {
      "name": "Lista-1.ipynb",
      "provenance": [],
      "collapsed_sections": [
        "jHlqQk5oH_9v",
        "tUaJIHSQH_96",
        "ii-o5n2PH_9-",
        "49ufqLkrH_-U"
      ],
      "include_colab_link": true
    }
  },
  "cells": [
    {
      "cell_type": "markdown",
      "metadata": {
        "id": "view-in-github",
        "colab_type": "text"
      },
      "source": [
        "<a href=\"https://colab.research.google.com/github/otavioml/Data-Science/blob/main/Lista_1.ipynb\" target=\"_parent\"><img src=\"https://colab.research.google.com/assets/colab-badge.svg\" alt=\"Open In Colab\"/></a>"
      ]
    },
    {
      "cell_type": "markdown",
      "metadata": {
        "id": "wpeTZaSPH_88"
      },
      "source": [
        "# Lista 01 - Introdução e Revisão Numpy\n",
        "\n",
        "[NumPy](http://numpy.org) é um pacote incrivelmente poderoso em Python, onipresente em qualquer projeto de ciência de dados. Possui forte integração com o [Pandas](http://pandas.pydata.org), outra ferramenta que iremos abordar na matéria. NumPy adiciona suporte para matrizes multidimensionais e funções matemáticas que permitem que você execute facilmente cálculos de álgebra linear. Este notebook será uma coleção de exemplos de álgebra linear computados usando NumPy. \n",
        "\n",
        "## Numpy \n",
        "\n",
        "Para fazer uso de Numpy precisamos importar a biblioteca"
      ]
    },
    {
      "cell_type": "code",
      "metadata": {
        "id": "_wE5sPGFH_9F"
      },
      "source": [
        "# -*- coding: utf8\n",
        "\n",
        "import numpy as np"
      ],
      "execution_count": null,
      "outputs": []
    },
    {
      "cell_type": "markdown",
      "metadata": {
        "id": "I-00rNHCH_9L"
      },
      "source": [
        "Quando pensamos no lado prático de ciência de dados, um aspecto chave que ajuda na implementação de novos algoritmos é a vetorização. De forma simples, vetorização consiste do uso de tipos como **escalar**, **vetor** e **matriz** para realizar uma computação mais eficaz (em tempo de execução).\n",
        "\n",
        "Uma matriz é uma coleção de valores, normalmente representada por uma grade 𝑚 × 𝑛, onde 𝑚 é o número de linhas e 𝑛 é o número de colunas. Os comprimentos das arestas 𝑚 e 𝑛 não precisam ser necessariamente diferentes. Se tivermos 𝑚 = 𝑛, chamamos isso de matriz quadrada. Um caso particularmente interessante de uma matriz é quando 𝑚 = 1 ou 𝑛 = 1. Nesse caso, temos um caso especial de uma matriz que chamamos de vetor. Embora haja um objeto de matriz em NumPy, faremos tudo usando matrizes NumPy porque elas podem ter dimensões maiores que 2. \n",
        "\n",
        "1. **Escalar:** Um vetor de zero dimensões"
      ]
    },
    {
      "cell_type": "code",
      "metadata": {
        "id": "42LeKGGxH_9N",
        "colab": {
          "base_uri": "https://localhost:8080/"
        },
        "outputId": "0ed8c583-7146-4a88-91c7-9eca0d7b5c89"
      },
      "source": [
        "1"
      ],
      "execution_count": null,
      "outputs": [
        {
          "output_type": "execute_result",
          "data": {
            "text/plain": [
              "1"
            ]
          },
          "metadata": {},
          "execution_count": 4
        }
      ]
    },
    {
      "cell_type": "markdown",
      "metadata": {
        "id": "5a7d0U-SH_9Q"
      },
      "source": [
        "2. **Vetor:** Representa uma dimensão"
      ]
    },
    {
      "cell_type": "markdown",
      "metadata": {
        "id": "kP6F2m-YH_9S"
      },
      "source": [
        "Abaixo vamos criar um vetor simples. Inicialmente, vamos criar uma lista."
      ]
    },
    {
      "cell_type": "code",
      "metadata": {
        "id": "GJy4mRLpH_9T"
      },
      "source": [
        "data_list = [3.5, 5, 2, 8, 4.2]"
      ],
      "execution_count": null,
      "outputs": []
    },
    {
      "cell_type": "markdown",
      "metadata": {
        "id": "oMYNH_YdH_9V"
      },
      "source": [
        "Observe o tipo da mesma."
      ]
    },
    {
      "cell_type": "code",
      "metadata": {
        "id": "P1DZb7gHH_9W",
        "colab": {
          "base_uri": "https://localhost:8080/"
        },
        "outputId": "83e8eba3-88ee-4e3b-f64c-a05b3f816241"
      },
      "source": [
        "type(data_list)"
      ],
      "execution_count": null,
      "outputs": [
        {
          "output_type": "execute_result",
          "data": {
            "text/plain": [
              "list"
            ]
          },
          "metadata": {},
          "execution_count": 6
        }
      ]
    },
    {
      "cell_type": "markdown",
      "metadata": {
        "id": "es53bnmwH_9k"
      },
      "source": [
        "Embora vetores e listas sejam parecidos, vetores Numpy são otimizados para operações de Álgebra Linear. Ciência de Dados faz bastante uso de tais operações, sendo este um dos motivos da dependência em Numpy.\n",
        "\n",
        "Abaixo criamos um vetor."
      ]
    },
    {
      "cell_type": "code",
      "metadata": {
        "id": "jan-9rdLH_9l",
        "colab": {
          "base_uri": "https://localhost:8080/"
        },
        "outputId": "b263b753-a817-431b-9f60-fdb0abf1edee"
      },
      "source": [
        "data = np.array(data_list)\n",
        "print(data)\n",
        "print(type(data))"
      ],
      "execution_count": null,
      "outputs": [
        {
          "output_type": "stream",
          "name": "stdout",
          "text": [
            "[3.5 5.  2.  8.  4.2]\n",
            "<class 'numpy.ndarray'>\n"
          ]
        }
      ]
    },
    {
      "cell_type": "markdown",
      "metadata": {
        "id": "OMnjL6zIH_9m"
      },
      "source": [
        "Observe como podemos somar o mesmo com um número. Não é possível fazer tal operação com listas."
      ]
    },
    {
      "cell_type": "code",
      "metadata": {
        "id": "_fqolImKH_9n",
        "colab": {
          "base_uri": "https://localhost:8080/"
        },
        "outputId": "2ae3ae61-77b3-4fa1-d6d5-e3700a79d465"
      },
      "source": [
        "data + 7"
      ],
      "execution_count": null,
      "outputs": [
        {
          "output_type": "execute_result",
          "data": {
            "text/plain": [
              "array([10.5, 12. ,  9. , 15. , 11.2])"
            ]
          },
          "metadata": {},
          "execution_count": 8
        }
      ]
    },
    {
      "cell_type": "markdown",
      "metadata": {
        "id": "hT77dpsNH_9o"
      },
      "source": [
        "3. **Matrizes:** Representam duas dimensões."
      ]
    },
    {
      "cell_type": "code",
      "metadata": {
        "id": "ZUw6EXe1H_9p",
        "colab": {
          "base_uri": "https://localhost:8080/"
        },
        "outputId": "f31b01d2-820c-4087-c1e4-91585a5026bc"
      },
      "source": [
        "X = np.array([[2, 4],\n",
        "              [1, 3]])\n",
        "X"
      ],
      "execution_count": null,
      "outputs": [
        {
          "output_type": "execute_result",
          "data": {
            "text/plain": [
              "array([[2, 4],\n",
              "       [1, 3]])"
            ]
          },
          "metadata": {},
          "execution_count": 9
        }
      ]
    },
    {
      "cell_type": "markdown",
      "metadata": {
        "id": "F3lQm7pIH_9q"
      },
      "source": [
        "Podemos indexar as matrizes e os vetores."
      ]
    },
    {
      "cell_type": "code",
      "metadata": {
        "id": "0zf_4zVwH_9s",
        "colab": {
          "base_uri": "https://localhost:8080/"
        },
        "outputId": "8109f795-353c-44d1-ddd4-805cbc77a90a"
      },
      "source": [
        "data[0]"
      ],
      "execution_count": null,
      "outputs": [
        {
          "output_type": "execute_result",
          "data": {
            "text/plain": [
              "3.5"
            ]
          },
          "metadata": {},
          "execution_count": 10
        }
      ]
    },
    {
      "cell_type": "code",
      "metadata": {
        "id": "kYD-R0EsH_9t",
        "colab": {
          "base_uri": "https://localhost:8080/"
        },
        "outputId": "0092ffdb-d103-4b48-de41-a2b9e2a1257a"
      },
      "source": [
        "X[0, 1] # aqui é primeira linha, segunda coluna"
      ],
      "execution_count": null,
      "outputs": [
        {
          "output_type": "execute_result",
          "data": {
            "text/plain": [
              "4"
            ]
          },
          "metadata": {},
          "execution_count": 11
        }
      ]
    },
    {
      "cell_type": "markdown",
      "metadata": {
        "id": "1q8PATcaH_9u"
      },
      "source": [
        "Podemos também criar vetores/matrizes de números aleatórios"
      ]
    },
    {
      "cell_type": "code",
      "metadata": {
        "id": "QyGN7PxuH_9u",
        "colab": {
          "base_uri": "https://localhost:8080/"
        },
        "outputId": "c84f82ab-ca92-4d18-d7d1-ec3869b36892"
      },
      "source": [
        "X = np.random.randn(4, 3) # Gera números aleatórios de uma normal\n",
        "print(X)"
      ],
      "execution_count": null,
      "outputs": [
        {
          "output_type": "stream",
          "name": "stdout",
          "text": [
            "[[-0.19733397  0.63925674  0.59892649]\n",
            " [ 1.51999238 -1.03311384  0.63158167]\n",
            " [-0.89839739  1.62590957  0.53926159]\n",
            " [ 0.46953084 -0.87901081 -0.35839508]]\n"
          ]
        }
      ]
    },
    {
      "cell_type": "markdown",
      "metadata": {
        "id": "jHlqQk5oH_9v"
      },
      "source": [
        "### Indexando\n",
        "\n",
        "Pegando a primeira linha"
      ]
    },
    {
      "cell_type": "code",
      "metadata": {
        "id": "LUzAToHcH_9w",
        "colab": {
          "base_uri": "https://localhost:8080/"
        },
        "outputId": "856ae7c2-b5c0-48db-d5f5-09f36755f2bb"
      },
      "source": [
        "X[0] # observe que 0 é a linha 1, compare com o X[0, 1] de antes."
      ],
      "execution_count": null,
      "outputs": [
        {
          "output_type": "execute_result",
          "data": {
            "text/plain": [
              "array([-0.19733397,  0.63925674,  0.59892649])"
            ]
          },
          "metadata": {},
          "execution_count": 13
        }
      ]
    },
    {
      "cell_type": "code",
      "metadata": {
        "id": "GSSuxNH9H_9x",
        "colab": {
          "base_uri": "https://localhost:8080/"
        },
        "outputId": "97343e82-bc09-4872-9aba-f1d66de99d78"
      },
      "source": [
        "X[1] # segunda"
      ],
      "execution_count": null,
      "outputs": [
        {
          "output_type": "execute_result",
          "data": {
            "text/plain": [
              "array([ 1.51999238, -1.03311384,  0.63158167])"
            ]
          },
          "metadata": {},
          "execution_count": 14
        }
      ]
    },
    {
      "cell_type": "code",
      "metadata": {
        "id": "Q1GN2BYlH_9y",
        "colab": {
          "base_uri": "https://localhost:8080/"
        },
        "outputId": "13b859f6-10e8-4a46-e450-555a335b8874"
      },
      "source": [
        "X[2] # terceira"
      ],
      "execution_count": null,
      "outputs": [
        {
          "output_type": "execute_result",
          "data": {
            "text/plain": [
              "array([-0.89839739,  1.62590957,  0.53926159])"
            ]
          },
          "metadata": {},
          "execution_count": 15
        }
      ]
    },
    {
      "cell_type": "markdown",
      "metadata": {
        "id": "ObUVMgU1H_9z"
      },
      "source": [
        "Observe como todos os tipos retornados são `array`. Array é o nome genérico de Numpy para vetores e matrizes. "
      ]
    },
    {
      "cell_type": "markdown",
      "metadata": {
        "id": "lTn8c5UBH_9z"
      },
      "source": [
        "`X[:, c]` pega uma coluna"
      ]
    },
    {
      "cell_type": "code",
      "metadata": {
        "id": "T9pDFLL8H_9z",
        "colab": {
          "base_uri": "https://localhost:8080/"
        },
        "outputId": "fddec7fe-f82a-49e1-b3e0-395baa628774"
      },
      "source": [
        "X[:, 0]"
      ],
      "execution_count": null,
      "outputs": [
        {
          "output_type": "execute_result",
          "data": {
            "text/plain": [
              "array([-0.19733397,  1.51999238, -0.89839739,  0.46953084])"
            ]
          },
          "metadata": {},
          "execution_count": 16
        }
      ]
    },
    {
      "cell_type": "code",
      "metadata": {
        "id": "JVZUl7lHH_91",
        "colab": {
          "base_uri": "https://localhost:8080/"
        },
        "outputId": "e4b12ca3-3503-4565-d9d8-e6e5c65d7722"
      },
      "source": [
        "X[:, 1]"
      ],
      "execution_count": null,
      "outputs": [
        {
          "output_type": "execute_result",
          "data": {
            "text/plain": [
              "array([ 0.63925674, -1.03311384,  1.62590957, -0.87901081])"
            ]
          },
          "metadata": {},
          "execution_count": 17
        }
      ]
    },
    {
      "cell_type": "markdown",
      "metadata": {
        "id": "yhneE2NEH_92"
      },
      "source": [
        "`X[um_vetor]` pega as linhas da matriz. `X[:, um_vetor]` pega as colunas"
      ]
    },
    {
      "cell_type": "code",
      "metadata": {
        "id": "AecYw5eoH_92",
        "colab": {
          "base_uri": "https://localhost:8080/"
        },
        "outputId": "e21cfb8a-5420-420a-a051-79b9e49b7e20"
      },
      "source": [
        "X[[0, 0, 1]] # observe que pego a primeira linha, indexada por 0, duas vezes"
      ],
      "execution_count": null,
      "outputs": [
        {
          "output_type": "execute_result",
          "data": {
            "text/plain": [
              "array([[-0.19733397,  0.63925674,  0.59892649],\n",
              "       [-0.19733397,  0.63925674,  0.59892649],\n",
              "       [ 1.51999238, -1.03311384,  0.63158167]])"
            ]
          },
          "metadata": {},
          "execution_count": 18
        }
      ]
    },
    {
      "cell_type": "markdown",
      "metadata": {
        "id": "TkIk2N1JH_93"
      },
      "source": [
        "Abaixo pego a segunda a primeira coluna"
      ]
    },
    {
      "cell_type": "code",
      "metadata": {
        "id": "op_Vu6TMH_94",
        "colab": {
          "base_uri": "https://localhost:8080/"
        },
        "outputId": "003f91f7-9791-473a-ff59-a23d33eed855"
      },
      "source": [
        "X[:, [1, 0]]"
      ],
      "execution_count": null,
      "outputs": [
        {
          "output_type": "execute_result",
          "data": {
            "text/plain": [
              "array([[ 0.63925674, -0.19733397],\n",
              "       [-1.03311384,  1.51999238],\n",
              "       [ 1.62590957, -0.89839739],\n",
              "       [-0.87901081,  0.46953084]])"
            ]
          },
          "metadata": {},
          "execution_count": 19
        }
      ]
    },
    {
      "cell_type": "markdown",
      "metadata": {
        "id": "tUaJIHSQH_96"
      },
      "source": [
        "### Indexação Booleana\n",
        "\n",
        "`X[vetor_booleano]` retorna as linhas (ou colunas quando X[:, vetor_booleano]) onde o vetor é true"
      ]
    },
    {
      "cell_type": "code",
      "metadata": {
        "id": "qAd8EFnsH_97",
        "colab": {
          "base_uri": "https://localhost:8080/"
        },
        "outputId": "2afa62b8-c6d1-448a-d7dc-d466562f2d9d"
      },
      "source": [
        "X[[True, False, True, False]]"
      ],
      "execution_count": null,
      "outputs": [
        {
          "output_type": "execute_result",
          "data": {
            "text/plain": [
              "array([[-0.19733397,  0.63925674,  0.59892649],\n",
              "       [-0.89839739,  1.62590957,  0.53926159]])"
            ]
          },
          "metadata": {},
          "execution_count": 20
        }
      ]
    },
    {
      "cell_type": "code",
      "metadata": {
        "id": "vrmZqfQPH_99",
        "colab": {
          "base_uri": "https://localhost:8080/"
        },
        "outputId": "1ec279d7-7545-4bd3-e83c-b48d9fcbaa2a"
      },
      "source": [
        "X[:, [False, True, True]]"
      ],
      "execution_count": null,
      "outputs": [
        {
          "output_type": "execute_result",
          "data": {
            "text/plain": [
              "array([[ 0.63925674,  0.59892649],\n",
              "       [-1.03311384,  0.63158167],\n",
              "       [ 1.62590957,  0.53926159],\n",
              "       [-0.87901081, -0.35839508]])"
            ]
          },
          "metadata": {},
          "execution_count": 21
        }
      ]
    },
    {
      "cell_type": "markdown",
      "metadata": {
        "id": "ii-o5n2PH_9-"
      },
      "source": [
        "### Reshape, Flatten e Ravel\n",
        "\n",
        "Todo vetor ou matriz pode ser redimensionado. Observe como uma matriz abaixo de 9x8=72 elementos. Podemos redimensionar os mesmos para outros arrays de tamanho 72."
      ]
    },
    {
      "cell_type": "code",
      "metadata": {
        "id": "N7Fpy8OeH_9_"
      },
      "source": [
        "X = np.random.randn(9, 8)"
      ],
      "execution_count": null,
      "outputs": []
    },
    {
      "cell_type": "markdown",
      "metadata": {
        "id": "UATnYLv_H_9_"
      },
      "source": [
        "Criando uma matriz de 18x4."
      ]
    },
    {
      "cell_type": "code",
      "metadata": {
        "id": "fP4HDZpqH_-A",
        "colab": {
          "base_uri": "https://localhost:8080/"
        },
        "outputId": "014545f8-ae34-4d58-8c6e-843791dc45e9"
      },
      "source": [
        "X.reshape((18, 4))"
      ],
      "execution_count": null,
      "outputs": [
        {
          "output_type": "execute_result",
          "data": {
            "text/plain": [
              "array([[ 1.56039483e-02, -1.44058580e+00, -1.28942513e+00,\n",
              "        -8.40377410e-01],\n",
              "       [-5.02189988e-01, -2.28372828e+00,  3.78332643e+00,\n",
              "         5.30853562e-01],\n",
              "       [-3.93055027e-01,  8.11736816e-01,  1.13742296e+00,\n",
              "         1.07506624e+00],\n",
              "       [-1.84403310e+00, -1.05433435e+00,  8.99021775e-01,\n",
              "        -2.87415724e+00],\n",
              "       [ 4.85337929e-01, -5.40622342e-01, -8.81253373e-01,\n",
              "        -6.47265583e-01],\n",
              "       [ 8.82289152e-02,  8.35894430e-02,  4.96749382e-01,\n",
              "        -1.35812785e+00],\n",
              "       [-2.14079728e-01, -6.47989379e-01,  1.69627897e+00,\n",
              "         1.76633592e-01],\n",
              "       [-5.39714783e-01, -5.51385862e-01, -2.25706135e-01,\n",
              "         5.95502045e-02],\n",
              "       [-1.30257714e-01,  4.17479689e-01,  1.63626618e+00,\n",
              "         1.30445394e-01],\n",
              "       [ 1.43136679e+00, -3.38332260e-01, -3.42136620e-01,\n",
              "         1.06238425e+00],\n",
              "       [-2.74347432e+00, -7.51669376e-01,  2.08658624e-01,\n",
              "        -1.52889321e-02],\n",
              "       [ 6.00463879e-02, -8.22660875e-01, -7.54849713e-01,\n",
              "         1.99681337e-01],\n",
              "       [ 2.58838307e-01,  8.27016736e-01,  4.41007437e-01,\n",
              "        -5.91034207e-01],\n",
              "       [-1.28075406e+00,  1.38939004e-01,  2.38484012e-01,\n",
              "         1.87464457e-01],\n",
              "       [ 9.90217070e-01, -7.40140274e-01,  8.34674532e-02,\n",
              "        -5.38970075e-01],\n",
              "       [ 5.35360770e-02,  1.25601425e+00,  2.15775780e-01,\n",
              "         7.23459299e-01],\n",
              "       [-8.31527078e-01,  2.11002078e-01, -2.45782652e-02,\n",
              "        -1.12271600e-05],\n",
              "       [ 3.20153331e-01, -1.67492422e+00, -1.28235684e+00,\n",
              "        -6.41238685e-01]])"
            ]
          },
          "metadata": {},
          "execution_count": 23
        }
      ]
    },
    {
      "cell_type": "markdown",
      "metadata": {
        "id": "iyso9IVQH_-A"
      },
      "source": [
        "Ou um vetor de 72"
      ]
    },
    {
      "cell_type": "code",
      "metadata": {
        "id": "6mQO7nNqH_-B",
        "colab": {
          "base_uri": "https://localhost:8080/"
        },
        "outputId": "c3120393-f4a1-47a6-cc47-ef96c295503c"
      },
      "source": [
        "X.reshape(72)"
      ],
      "execution_count": null,
      "outputs": [
        {
          "output_type": "execute_result",
          "data": {
            "text/plain": [
              "array([ 1.56039483e-02, -1.44058580e+00, -1.28942513e+00, -8.40377410e-01,\n",
              "       -5.02189988e-01, -2.28372828e+00,  3.78332643e+00,  5.30853562e-01,\n",
              "       -3.93055027e-01,  8.11736816e-01,  1.13742296e+00,  1.07506624e+00,\n",
              "       -1.84403310e+00, -1.05433435e+00,  8.99021775e-01, -2.87415724e+00,\n",
              "        4.85337929e-01, -5.40622342e-01, -8.81253373e-01, -6.47265583e-01,\n",
              "        8.82289152e-02,  8.35894430e-02,  4.96749382e-01, -1.35812785e+00,\n",
              "       -2.14079728e-01, -6.47989379e-01,  1.69627897e+00,  1.76633592e-01,\n",
              "       -5.39714783e-01, -5.51385862e-01, -2.25706135e-01,  5.95502045e-02,\n",
              "       -1.30257714e-01,  4.17479689e-01,  1.63626618e+00,  1.30445394e-01,\n",
              "        1.43136679e+00, -3.38332260e-01, -3.42136620e-01,  1.06238425e+00,\n",
              "       -2.74347432e+00, -7.51669376e-01,  2.08658624e-01, -1.52889321e-02,\n",
              "        6.00463879e-02, -8.22660875e-01, -7.54849713e-01,  1.99681337e-01,\n",
              "        2.58838307e-01,  8.27016736e-01,  4.41007437e-01, -5.91034207e-01,\n",
              "       -1.28075406e+00,  1.38939004e-01,  2.38484012e-01,  1.87464457e-01,\n",
              "        9.90217070e-01, -7.40140274e-01,  8.34674532e-02, -5.38970075e-01,\n",
              "        5.35360770e-02,  1.25601425e+00,  2.15775780e-01,  7.23459299e-01,\n",
              "       -8.31527078e-01,  2.11002078e-01, -2.45782652e-02, -1.12271600e-05,\n",
              "        3.20153331e-01, -1.67492422e+00, -1.28235684e+00, -6.41238685e-01])"
            ]
          },
          "metadata": {},
          "execution_count": 24
        }
      ]
    },
    {
      "cell_type": "markdown",
      "metadata": {
        "id": "LbRE5c6LH_-B"
      },
      "source": [
        "A chamada flatten e ravel faz a mesma coisa, criam uma visão de uma dimensão da matriz."
      ]
    },
    {
      "cell_type": "code",
      "metadata": {
        "id": "dLUmHpGrH_-B",
        "colab": {
          "base_uri": "https://localhost:8080/"
        },
        "outputId": "34df67e1-fb87-4047-fb26-372d7ce11c3c"
      },
      "source": [
        "X.flatten()"
      ],
      "execution_count": null,
      "outputs": [
        {
          "output_type": "execute_result",
          "data": {
            "text/plain": [
              "array([ 1.56039483e-02, -1.44058580e+00, -1.28942513e+00, -8.40377410e-01,\n",
              "       -5.02189988e-01, -2.28372828e+00,  3.78332643e+00,  5.30853562e-01,\n",
              "       -3.93055027e-01,  8.11736816e-01,  1.13742296e+00,  1.07506624e+00,\n",
              "       -1.84403310e+00, -1.05433435e+00,  8.99021775e-01, -2.87415724e+00,\n",
              "        4.85337929e-01, -5.40622342e-01, -8.81253373e-01, -6.47265583e-01,\n",
              "        8.82289152e-02,  8.35894430e-02,  4.96749382e-01, -1.35812785e+00,\n",
              "       -2.14079728e-01, -6.47989379e-01,  1.69627897e+00,  1.76633592e-01,\n",
              "       -5.39714783e-01, -5.51385862e-01, -2.25706135e-01,  5.95502045e-02,\n",
              "       -1.30257714e-01,  4.17479689e-01,  1.63626618e+00,  1.30445394e-01,\n",
              "        1.43136679e+00, -3.38332260e-01, -3.42136620e-01,  1.06238425e+00,\n",
              "       -2.74347432e+00, -7.51669376e-01,  2.08658624e-01, -1.52889321e-02,\n",
              "        6.00463879e-02, -8.22660875e-01, -7.54849713e-01,  1.99681337e-01,\n",
              "        2.58838307e-01,  8.27016736e-01,  4.41007437e-01, -5.91034207e-01,\n",
              "       -1.28075406e+00,  1.38939004e-01,  2.38484012e-01,  1.87464457e-01,\n",
              "        9.90217070e-01, -7.40140274e-01,  8.34674532e-02, -5.38970075e-01,\n",
              "        5.35360770e-02,  1.25601425e+00,  2.15775780e-01,  7.23459299e-01,\n",
              "       -8.31527078e-01,  2.11002078e-01, -2.45782652e-02, -1.12271600e-05,\n",
              "        3.20153331e-01, -1.67492422e+00, -1.28235684e+00, -6.41238685e-01])"
            ]
          },
          "metadata": {},
          "execution_count": 25
        }
      ]
    },
    {
      "cell_type": "code",
      "metadata": {
        "id": "2HSuLaSRH_-C",
        "colab": {
          "base_uri": "https://localhost:8080/"
        },
        "outputId": "76d0f2fd-357e-46ed-db99-108195d718c6"
      },
      "source": [
        "X.ravel()"
      ],
      "execution_count": null,
      "outputs": [
        {
          "output_type": "execute_result",
          "data": {
            "text/plain": [
              "array([ 1.56039483e-02, -1.44058580e+00, -1.28942513e+00, -8.40377410e-01,\n",
              "       -5.02189988e-01, -2.28372828e+00,  3.78332643e+00,  5.30853562e-01,\n",
              "       -3.93055027e-01,  8.11736816e-01,  1.13742296e+00,  1.07506624e+00,\n",
              "       -1.84403310e+00, -1.05433435e+00,  8.99021775e-01, -2.87415724e+00,\n",
              "        4.85337929e-01, -5.40622342e-01, -8.81253373e-01, -6.47265583e-01,\n",
              "        8.82289152e-02,  8.35894430e-02,  4.96749382e-01, -1.35812785e+00,\n",
              "       -2.14079728e-01, -6.47989379e-01,  1.69627897e+00,  1.76633592e-01,\n",
              "       -5.39714783e-01, -5.51385862e-01, -2.25706135e-01,  5.95502045e-02,\n",
              "       -1.30257714e-01,  4.17479689e-01,  1.63626618e+00,  1.30445394e-01,\n",
              "        1.43136679e+00, -3.38332260e-01, -3.42136620e-01,  1.06238425e+00,\n",
              "       -2.74347432e+00, -7.51669376e-01,  2.08658624e-01, -1.52889321e-02,\n",
              "        6.00463879e-02, -8.22660875e-01, -7.54849713e-01,  1.99681337e-01,\n",
              "        2.58838307e-01,  8.27016736e-01,  4.41007437e-01, -5.91034207e-01,\n",
              "       -1.28075406e+00,  1.38939004e-01,  2.38484012e-01,  1.87464457e-01,\n",
              "        9.90217070e-01, -7.40140274e-01,  8.34674532e-02, -5.38970075e-01,\n",
              "        5.35360770e-02,  1.25601425e+00,  2.15775780e-01,  7.23459299e-01,\n",
              "       -8.31527078e-01,  2.11002078e-01, -2.45782652e-02, -1.12271600e-05,\n",
              "        3.20153331e-01, -1.67492422e+00, -1.28235684e+00, -6.41238685e-01])"
            ]
          },
          "metadata": {},
          "execution_count": 26
        }
      ]
    },
    {
      "cell_type": "markdown",
      "metadata": {
        "id": "n2LVf7elH_-E"
      },
      "source": [
        "As funções incorporadas ao NumPy podem ser facilmente chamadas em matrizes. A maioria das funções são aplicadas a um elemento de array (como a multiplicação escalar). Por exemplo, se chamarmos `log()` em um array, o logaritmo será obtido de cada elemento. "
      ]
    },
    {
      "cell_type": "code",
      "metadata": {
        "id": "i9_RLhdEH_-F",
        "colab": {
          "base_uri": "https://localhost:8080/"
        },
        "outputId": "7ad97839-8b5a-4ca6-8022-a272976d8699"
      },
      "source": [
        "np.log(data)"
      ],
      "execution_count": null,
      "outputs": [
        {
          "output_type": "execute_result",
          "data": {
            "text/plain": [
              "array([1.25276297, 1.60943791, 0.69314718, 2.07944154, 1.43508453])"
            ]
          },
          "metadata": {},
          "execution_count": 27
        }
      ]
    },
    {
      "cell_type": "markdown",
      "metadata": {
        "id": "HUssV_iNH_-F"
      },
      "source": [
        "Mean tira a média"
      ]
    },
    {
      "cell_type": "code",
      "metadata": {
        "id": "wcudxQGgH_-F",
        "colab": {
          "base_uri": "https://localhost:8080/"
        },
        "outputId": "942adf8b-68f7-452b-d38d-997d58b50c9d"
      },
      "source": [
        "np.mean(data)"
      ],
      "execution_count": null,
      "outputs": [
        {
          "output_type": "execute_result",
          "data": {
            "text/plain": [
              "4.54"
            ]
          },
          "metadata": {},
          "execution_count": 28
        }
      ]
    },
    {
      "cell_type": "markdown",
      "metadata": {
        "id": "1szG7pF3H_-G"
      },
      "source": [
        "Algumas funções podem ser chamadas direto no vetor, nem todas serão assim. O importante é ler a [documentação](http://numpy.org) e aprender. Com um pouco de prática você vai se acostumando."
      ]
    },
    {
      "cell_type": "code",
      "metadata": {
        "id": "V3m9DPOEH_-G",
        "colab": {
          "base_uri": "https://localhost:8080/"
        },
        "outputId": "5757a343-010b-4637-f1fa-bf2db8005d65"
      },
      "source": [
        "data.mean()"
      ],
      "execution_count": null,
      "outputs": [
        {
          "output_type": "execute_result",
          "data": {
            "text/plain": [
              "4.54"
            ]
          },
          "metadata": {},
          "execution_count": 29
        }
      ]
    },
    {
      "cell_type": "markdown",
      "metadata": {
        "id": "MZk0C_uxH_-H"
      },
      "source": [
        "Abaixo temos a mediana,"
      ]
    },
    {
      "cell_type": "code",
      "metadata": {
        "id": "9aW5QsyFH_-I",
        "colab": {
          "base_uri": "https://localhost:8080/"
        },
        "outputId": "623fe8c7-3052-4c74-d608-ec6c570f41ab"
      },
      "source": [
        "np.median(data) # por exemplo, não existe data.median(). Faz sentido? Não. Mas é assim."
      ],
      "execution_count": null,
      "outputs": [
        {
          "output_type": "execute_result",
          "data": {
            "text/plain": [
              "4.2"
            ]
          },
          "metadata": {},
          "execution_count": 30
        }
      ]
    },
    {
      "cell_type": "markdown",
      "metadata": {
        "id": "qIUUi3hrH_-J"
      },
      "source": [
        "Em matrizes as funções operam em todos os elemntos."
      ]
    },
    {
      "cell_type": "code",
      "metadata": {
        "id": "NBJLb4aVH_-L",
        "colab": {
          "base_uri": "https://localhost:8080/"
        },
        "outputId": "db3781de-2908-40b6-94ad-14210945031b"
      },
      "source": [
        "np.median(X)"
      ],
      "execution_count": null,
      "outputs": [
        {
          "output_type": "execute_result",
          "data": {
            "text/plain": [
              "0.007796360587094295"
            ]
          },
          "metadata": {},
          "execution_count": 31
        }
      ]
    },
    {
      "cell_type": "code",
      "metadata": {
        "id": "fx7fZchRH_-O",
        "colab": {
          "base_uri": "https://localhost:8080/"
        },
        "outputId": "233c6719-9e47-48be-9d5a-f579437de0eb"
      },
      "source": [
        "X.mean()"
      ],
      "execution_count": null,
      "outputs": [
        {
          "output_type": "execute_result",
          "data": {
            "text/plain": [
              "-0.1277934998065851"
            ]
          },
          "metadata": {},
          "execution_count": 32
        }
      ]
    },
    {
      "cell_type": "code",
      "metadata": {
        "id": "vBfU_W6xH_-P",
        "colab": {
          "base_uri": "https://localhost:8080/"
        },
        "outputId": "d391a06f-e7ac-4a07-c233-0ca87c47cbb8"
      },
      "source": [
        "np.log(X + 10)"
      ],
      "execution_count": null,
      "outputs": [
        {
          "output_type": "execute_result",
          "data": {
            "text/plain": [
              "array([[2.30414427, 2.14703175, 2.16453779, 2.21480498, 2.25106125,\n",
              "        2.04333131, 2.62345963, 2.35430938],\n",
              "       [2.26248627, 2.38063229, 2.41031088, 2.4046963 , 2.09874979,\n",
              "        2.19116913, 2.38867304, 1.963728  ],\n",
              "       [2.34997789, 2.24700659, 2.21033236, 2.23566875, 2.31136929,\n",
              "        2.31090929, 2.35106563, 2.15661924],\n",
              "       [2.28094465, 2.23559136, 2.45927075, 2.32009427, 2.24710253,\n",
              "        2.24586808, 2.27975586, 2.30852245],\n",
              "       [2.28947374, 2.34348513, 2.45412662, 2.31554529, 2.43636105,\n",
              "        2.26816628, 2.26777244, 2.40355055],\n",
              "       [1.98190116, 2.22444306, 2.32323624, 2.30105503, 2.30857178,\n",
              "        2.21673731, 2.22409912, 2.32235648],\n",
              "       [2.32813961, 2.38204456, 2.34574108, 2.24166304, 2.16553276,\n",
              "        2.31638336, 2.32615356, 2.32115799],\n",
              "       [2.39700552, 2.2256889 , 2.3108972 , 2.24718125, 2.30792442,\n",
              "        2.42090259, 2.32393317, 2.3724338 ],\n",
              "       [2.21577074, 2.32346577, 2.30012424, 2.30258397, 2.33409862,\n",
              "        2.11927214, 2.16534892, 2.23631294]])"
            ]
          },
          "metadata": {},
          "execution_count": 33
        }
      ]
    },
    {
      "cell_type": "markdown",
      "metadata": {
        "id": "1I2FVZtVH_-Q"
      },
      "source": [
        "Porém, caso você queira a media de linhas ou colunas use `axis`. Antes, vamos ver o tamanho do vetor."
      ]
    },
    {
      "cell_type": "code",
      "metadata": {
        "id": "QiYzuYJ_H_-Q",
        "colab": {
          "base_uri": "https://localhost:8080/"
        },
        "outputId": "bcca4d6c-8257-4e1e-d6dc-571257aad39e"
      },
      "source": [
        "X.shape"
      ],
      "execution_count": null,
      "outputs": [
        {
          "output_type": "execute_result",
          "data": {
            "text/plain": [
              "(9, 8)"
            ]
          },
          "metadata": {},
          "execution_count": 34
        }
      ]
    },
    {
      "cell_type": "code",
      "metadata": {
        "id": "oAtfLOI5H_-R",
        "colab": {
          "base_uri": "https://localhost:8080/"
        },
        "outputId": "9306eda8-547a-4567-d897-d29496f73817"
      },
      "source": [
        "np.mean(X, axis=0) # média das colunas. como temos 8 colunas, temos 8 elementos."
      ],
      "execution_count": null,
      "outputs": [
        {
          "output_type": "execute_result",
          "data": {
            "text/plain": [
              "array([-0.28471074, -0.20597465,  0.33420499, -0.13897802, -0.24592894,\n",
              "       -0.58298035,  0.33647867, -0.23445896])"
            ]
          },
          "metadata": {},
          "execution_count": 35
        }
      ]
    },
    {
      "cell_type": "code",
      "metadata": {
        "id": "q1Hf1aqyH_-R",
        "colab": {
          "base_uri": "https://localhost:8080/"
        },
        "outputId": "515440fb-8486-43fe-8a45-583f7b7812ae"
      },
      "source": [
        "np.mean(X, axis=0).shape"
      ],
      "execution_count": null,
      "outputs": [
        {
          "output_type": "execute_result",
          "data": {
            "text/plain": [
              "(8,)"
            ]
          },
          "metadata": {},
          "execution_count": 36
        }
      ]
    },
    {
      "cell_type": "code",
      "metadata": {
        "id": "TYAXD10RH_-S",
        "colab": {
          "base_uri": "https://localhost:8080/"
        },
        "outputId": "c25522f4-3485-440f-d608-d117d28c7aa2"
      },
      "source": [
        "np.mean(X, axis=1) # média das linhas"
      ],
      "execution_count": null,
      "outputs": [
        {
          "output_type": "execute_result",
          "data": {
            "text/plain": [
              "array([-0.25331533, -0.28029149, -0.28417044, -0.03080164,  0.48340196,\n",
              "       -0.57744461,  0.02749521,  0.25541995, -0.49043511])"
            ]
          },
          "metadata": {},
          "execution_count": 37
        }
      ]
    },
    {
      "cell_type": "code",
      "metadata": {
        "id": "upnAHbGIH_-T",
        "colab": {
          "base_uri": "https://localhost:8080/"
        },
        "outputId": "67d49e92-38f5-411c-d05d-0e987a61f82f"
      },
      "source": [
        "np.mean(X, axis=1).shape"
      ],
      "execution_count": null,
      "outputs": [
        {
          "output_type": "execute_result",
          "data": {
            "text/plain": [
              "(9,)"
            ]
          },
          "metadata": {},
          "execution_count": 38
        }
      ]
    },
    {
      "cell_type": "markdown",
      "metadata": {
        "id": "v8JsDiyrH_-T"
      },
      "source": [
        "Lembre-se que eixo 0 é coluna. Eixo 1 é linas."
      ]
    },
    {
      "cell_type": "markdown",
      "metadata": {
        "id": "49ufqLkrH_-U"
      },
      "source": [
        "### Multiplicação de Matrizes"
      ]
    },
    {
      "cell_type": "markdown",
      "metadata": {
        "id": "cIvRizpLH_-U"
      },
      "source": [
        "Para transpor uma matriz fazemos uso de .T"
      ]
    },
    {
      "cell_type": "code",
      "metadata": {
        "id": "a4-Q76pmH_-U",
        "colab": {
          "base_uri": "https://localhost:8080/"
        },
        "outputId": "b1f71e8e-3153-41e7-9622-84d0c2b283f0"
      },
      "source": [
        "X.shape"
      ],
      "execution_count": null,
      "outputs": [
        {
          "output_type": "execute_result",
          "data": {
            "text/plain": [
              "(9, 8)"
            ]
          },
          "metadata": {},
          "execution_count": 39
        }
      ]
    },
    {
      "cell_type": "code",
      "metadata": {
        "id": "rdcY-PuEH_-V",
        "colab": {
          "base_uri": "https://localhost:8080/"
        },
        "outputId": "c59d473a-40ac-480a-91c6-1203699fc361"
      },
      "source": [
        "X.T.shape"
      ],
      "execution_count": null,
      "outputs": [
        {
          "output_type": "execute_result",
          "data": {
            "text/plain": [
              "(8, 9)"
            ]
          },
          "metadata": {},
          "execution_count": 40
        }
      ]
    },
    {
      "cell_type": "code",
      "metadata": {
        "id": "mXtIyFfFH_-V",
        "colab": {
          "base_uri": "https://localhost:8080/"
        },
        "outputId": "f821a272-0d35-4d41-cf57-8580b5133f51"
      },
      "source": [
        "X.T"
      ],
      "execution_count": null,
      "outputs": [
        {
          "output_type": "execute_result",
          "data": {
            "text/plain": [
              "array([[ 1.56039483e-02, -3.93055027e-01,  4.85337929e-01,\n",
              "        -2.14079728e-01, -1.30257714e-01, -2.74347432e+00,\n",
              "         2.58838307e-01,  9.90217070e-01, -8.31527078e-01],\n",
              "       [-1.44058580e+00,  8.11736816e-01, -5.40622342e-01,\n",
              "        -6.47989379e-01,  4.17479689e-01, -7.51669376e-01,\n",
              "         8.27016736e-01, -7.40140274e-01,  2.11002078e-01],\n",
              "       [-1.28942513e+00,  1.13742296e+00, -8.81253373e-01,\n",
              "         1.69627897e+00,  1.63626618e+00,  2.08658624e-01,\n",
              "         4.41007437e-01,  8.34674532e-02, -2.45782652e-02],\n",
              "       [-8.40377410e-01,  1.07506624e+00, -6.47265583e-01,\n",
              "         1.76633592e-01,  1.30445394e-01, -1.52889321e-02,\n",
              "        -5.91034207e-01, -5.38970075e-01, -1.12271600e-05],\n",
              "       [-5.02189988e-01, -1.84403310e+00,  8.82289152e-02,\n",
              "        -5.39714783e-01,  1.43136679e+00,  6.00463879e-02,\n",
              "        -1.28075406e+00,  5.35360770e-02,  3.20153331e-01],\n",
              "       [-2.28372828e+00, -1.05433435e+00,  8.35894430e-02,\n",
              "        -5.51385862e-01, -3.38332260e-01, -8.22660875e-01,\n",
              "         1.38939004e-01,  1.25601425e+00, -1.67492422e+00],\n",
              "       [ 3.78332643e+00,  8.99021775e-01,  4.96749382e-01,\n",
              "        -2.25706135e-01, -3.42136620e-01, -7.54849713e-01,\n",
              "         2.38484012e-01,  2.15775780e-01, -1.28235684e+00],\n",
              "       [ 5.30853562e-01, -2.87415724e+00, -1.35812785e+00,\n",
              "         5.95502045e-02,  1.06238425e+00,  1.99681337e-01,\n",
              "         1.87464457e-01,  7.23459299e-01, -6.41238685e-01]])"
            ]
          },
          "metadata": {},
          "execution_count": 41
        }
      ]
    },
    {
      "cell_type": "markdown",
      "metadata": {
        "id": "hRXQuuCKH_-V"
      },
      "source": [
        "Para multiplicar matrizes, do ponto de visto de multiplicação matricial como definido na álgebra linear, fazemos uso de `@`."
      ]
    },
    {
      "cell_type": "code",
      "metadata": {
        "id": "O9KdjTuBH_-W",
        "colab": {
          "base_uri": "https://localhost:8080/"
        },
        "outputId": "74db025d-df5e-4183-d29f-f51a47c2477f"
      },
      "source": [
        "X @ X.T"
      ],
      "execution_count": null,
      "outputs": [
        {
          "output_type": "execute_result",
          "data": {
            "text/plain": [
              "array([[24.50735634,  1.66381149,  3.38983848, -0.6975725 , -3.49951712,\n",
              "        -0.11742811,  0.06835803, -0.26787928, -1.81292479],\n",
              "       [ 1.66381149, 16.84400631,  1.77141449,  2.87995334, -3.25237382,\n",
              "         0.19316536,  2.326658  , -4.78282956,  2.33585698],\n",
              "       [ 3.38983848,  1.77141449,  3.82942841, -1.64946855, -3.33011862,\n",
              "        -1.80875985, -0.56508249,  0.3903763 , -0.37386217],\n",
              "       [-0.6975725 ,  2.87995334, -1.64946855,  4.02409005,  2.11047744,\n",
              "         2.02909964,  0.62433419, -0.41306098,  1.00158037],\n",
              "       [-3.49951712, -3.25237382, -3.33011862,  2.11047744,  6.29463675,\n",
              "         1.21765983, -0.80661634, -0.02526155,  0.93862095],\n",
              "       [-0.11742811,  0.19316536, -1.80875985,  2.02909964,  1.21765983,\n",
              "         9.42547759, -1.56449389, -3.18311395,  4.35460306],\n",
              "       [ 0.06835803,  2.326658  , -0.56508249,  0.62433419, -0.80661634,\n",
              "        -1.56449389,  3.0464155 ,  0.29258203, -1.12034242],\n",
              "       [-0.26787928, -4.78282956,  0.3903763 , -0.41306098, -0.02526155,\n",
              "        -3.18311395,  0.29258203,  3.97618348, -3.80880945],\n",
              "       [-1.81292479,  2.33585698, -0.37386217,  1.00158037,  0.93862095,\n",
              "         4.35460306, -1.12034242, -3.80880945,  5.70005867]])"
            ]
          },
          "metadata": {},
          "execution_count": 42
        }
      ]
    },
    {
      "cell_type": "markdown",
      "metadata": {
        "id": "uzsRjXglH_-W"
      },
      "source": [
        "O uso de `*` realiza uma operação ponto a ponto"
      ]
    },
    {
      "cell_type": "code",
      "metadata": {
        "id": "imgsI13fH_-W",
        "colab": {
          "base_uri": "https://localhost:8080/"
        },
        "outputId": "359d2cfc-e2f8-46e3-9386-bc944ba5905f"
      },
      "source": [
        "X * X"
      ],
      "execution_count": null,
      "outputs": [
        {
          "output_type": "execute_result",
          "data": {
            "text/plain": [
              "array([[2.43483204e-04, 2.07528746e+00, 1.66261715e+00, 7.06234192e-01,\n",
              "        2.52194784e-01, 5.21541486e+00, 1.43135589e+01, 2.81805504e-01],\n",
              "       [1.54492254e-01, 6.58916658e-01, 1.29373099e+00, 1.15576742e+00,\n",
              "        3.40045806e+00, 1.11162091e+00, 8.08240152e-01, 8.26077986e+00],\n",
              "       [2.35552905e-01, 2.92272517e-01, 7.76607508e-01, 4.18952735e-01,\n",
              "        7.78434147e-03, 6.98719498e-03, 2.46759949e-01, 1.84451126e+00],\n",
              "       [4.58301301e-02, 4.19890236e-01, 2.87736236e+00, 3.11994257e-02,\n",
              "        2.91292047e-01, 3.04026369e-01, 5.09432595e-02, 3.54622686e-03],\n",
              "       [1.69670721e-02, 1.74289290e-01, 2.67736703e+00, 1.70160009e-02,\n",
              "        2.04881089e+00, 1.14468718e-01, 1.17057467e-01, 1.12866029e+00],\n",
              "       [7.52665136e+00, 5.65006851e-01, 4.35384213e-02, 2.33751444e-04,\n",
              "        3.60556870e-03, 6.76770915e-01, 5.69798090e-01, 3.98726362e-02],\n",
              "       [6.69972691e-02, 6.83956681e-01, 1.94487559e-01, 3.49321433e-01,\n",
              "        1.64033097e+00, 1.93040469e-02, 5.68746239e-02, 3.51429228e-02],\n",
              "       [9.80529845e-01, 5.47807625e-01, 6.96681574e-03, 2.90488742e-01,\n",
              "        2.86611154e-03, 1.57757180e+00, 4.65591871e-02, 5.23393357e-01],\n",
              "       [6.91437281e-01, 4.45218770e-02, 6.04091121e-04, 1.26049121e-10,\n",
              "        1.02498155e-01, 2.80537115e+00, 1.64443907e+00, 4.11187051e-01]])"
            ]
          },
          "metadata": {},
          "execution_count": 43
        }
      ]
    },
    {
      "cell_type": "markdown",
      "metadata": {
        "id": "i3lrkDlWH_-X"
      },
      "source": [
        "Observe a diferença de tamanhos"
      ]
    },
    {
      "cell_type": "code",
      "metadata": {
        "id": "x31uPJhVH_-X",
        "colab": {
          "base_uri": "https://localhost:8080/"
        },
        "outputId": "9c609bad-9ab0-473a-cf75-97c17d268d27"
      },
      "source": [
        "(X * X).shape"
      ],
      "execution_count": null,
      "outputs": [
        {
          "output_type": "execute_result",
          "data": {
            "text/plain": [
              "(9, 8)"
            ]
          },
          "metadata": {},
          "execution_count": 44
        }
      ]
    },
    {
      "cell_type": "code",
      "metadata": {
        "id": "N0t6XDMBH_-Y",
        "colab": {
          "base_uri": "https://localhost:8080/"
        },
        "outputId": "eebcd456-98ca-4cca-eb49-0c6971fae6af"
      },
      "source": [
        "(X @ X.T).shape"
      ],
      "execution_count": null,
      "outputs": [
        {
          "output_type": "execute_result",
          "data": {
            "text/plain": [
              "(9, 9)"
            ]
          },
          "metadata": {},
          "execution_count": 45
        }
      ]
    },
    {
      "cell_type": "markdown",
      "metadata": {
        "id": "mg8BIlGEH_-Y"
      },
      "source": [
        "**Pense:** Para o nosso `X` de tamanho `(9, 8)`, qual o motivo de `X * X.T` não funcionar? Qual o motivo de `X @ X` não funcionar?"
      ]
    },
    {
      "cell_type": "markdown",
      "metadata": {
        "id": "PE9HK1_IH_-Z"
      },
      "source": [
        "## Correção Automática\n",
        "\n",
        "Nossa correção automática depende das funções abaixo. Tais funções comparam valores que serão computados pelo seu código com uma saída esperada. Normalmente, vocês não fazer uso de tais funções em notebooks como este. Porém, elas são chave em ambientes de testes automáticos (fora do nosso escopo).\n",
        "\n",
        "Observe como algumas funções comparam valores e outras comparam vetores. Além do mais, temos funções para comparar dentro de algumas casas decimais."
      ]
    },
    {
      "cell_type": "code",
      "metadata": {
        "id": "_gJUUL0VH_-Z"
      },
      "source": [
        "from numpy.testing import assert_almost_equal\n",
        "from numpy.testing import assert_equal\n",
        "\n",
        "from numpy.testing import assert_array_almost_equal\n",
        "from numpy.testing import assert_array_equal"
      ],
      "execution_count": null,
      "outputs": []
    },
    {
      "cell_type": "code",
      "metadata": {
        "id": "faL0vJrvH_-a"
      },
      "source": [
        "# caso você mude um dos valores vamos receber um erro!\n",
        "assert_array_equal(2, 2)\n",
        "\n",
        "# caso você mude um dos valores vamos receber um erro!\n",
        "assert_array_equal([1, 2], [1, 2])\n",
        "\n",
        "# caso você mude um dos valores vamos receber um erro!\n",
        "assert_almost_equal(3.1415, 3.14, 1)"
      ],
      "execution_count": null,
      "outputs": []
    },
    {
      "cell_type": "markdown",
      "metadata": {
        "id": "xgozSI5HH_-b"
      },
      "source": [
        "Caso você mude um dos valores abaixo vamos receber um erro! Como o abaixo.\n",
        "\n",
        "```\n",
        "-----------------------------------------------------------------------\n",
        "AssertionError                        Traceback (most recent call last)\n",
        "<ipython-input-10-396672d880f2> in <module>\n",
        "----> 1 assert_equal(2, 3) # caso você mude um dos valores vamos receber um erro!\n",
        "\n",
        "~/miniconda3/lib/python3.7/site-packages/numpy/testing/_private/utils.py in assert_equal(actual, desired, err_msg, verbose)\n",
        "    413         # Explicitly use __eq__ for comparison, gh-2552\n",
        "    414         if not (desired == actual):\n",
        "--> 415             raise AssertionError(msg)\n",
        "    416 \n",
        "    417     except (DeprecationWarning, FutureWarning) as e:\n",
        "\n",
        "AssertionError: \n",
        "Items are not equal:\n",
        " ACTUAL: 2\n",
        " DESIRED: 3\n",
        " ```"
      ]
    },
    {
      "cell_type": "markdown",
      "metadata": {
        "id": "8WFgdoWOH_-d"
      },
      "source": [
        "É essencial que todo seu código execute sem erros! Portanto, antes de submeter clique em `Kernel` no menu acima. Depois clique em `Restart & Execute All.`\n",
        "\n",
        "**Garanta que o notebook executa até o fim!** Isto é, sem erros como o acima."
      ]
    },
    {
      "cell_type": "markdown",
      "metadata": {
        "id": "zAkvPFbmH_-e"
      },
      "source": [
        "## Funções em Python"
      ]
    },
    {
      "cell_type": "markdown",
      "metadata": {
        "id": "R7_p3sAyH_-f"
      },
      "source": [
        "Para criar uma função em Python fazemos uso da palavra-chave: \n",
        "```python\n",
        "def\n",
        "```\n",
        "\n",
        "Todos nossos exercícios farão uso de funções. **Mantenha a assinatura das funções exatamente como requisitado, a correção automática depende disso.** Abaixo, temos um exempo de uma função que imprime algo na tela!"
      ]
    },
    {
      "cell_type": "code",
      "metadata": {
        "id": "Lt_qORYrH_-f"
      },
      "source": [
        "def print_something(txt):\n",
        "    print(f'Voce passou o argumento: {txt}')"
      ],
      "execution_count": null,
      "outputs": []
    },
    {
      "cell_type": "code",
      "metadata": {
        "id": "-bfLEZ_rH_-g",
        "colab": {
          "base_uri": "https://localhost:8080/"
        },
        "outputId": "73dc8a78-f03e-452e-acff-b6684f8a1bd3"
      },
      "source": [
        "print_something('DCC 212')"
      ],
      "execution_count": null,
      "outputs": [
        {
          "output_type": "stream",
          "name": "stdout",
          "text": [
            "Voce passou o argumento: DCC 212\n"
          ]
        }
      ]
    },
    {
      "cell_type": "markdown",
      "metadata": {
        "id": "bkrQnUwHH_-h"
      },
      "source": [
        "Podemos também dizer o tipo do argumento, porém faremos pouco uso disto em ICD."
      ]
    },
    {
      "cell_type": "code",
      "metadata": {
        "id": "1OJH8hNPH_-h"
      },
      "source": [
        "def print_something(txt: str):\n",
        "    print(f'Voce passou o argumento: {txt}')"
      ],
      "execution_count": null,
      "outputs": []
    },
    {
      "cell_type": "code",
      "metadata": {
        "id": "-x3yYveDH_-i",
        "colab": {
          "base_uri": "https://localhost:8080/"
        },
        "outputId": "4ebedb1f-674f-49b1-fe0a-6528271b1855"
      },
      "source": [
        "print_something('DCC 212')"
      ],
      "execution_count": null,
      "outputs": [
        {
          "output_type": "stream",
          "name": "stdout",
          "text": [
            "Voce passou o argumento: DCC 212\n"
          ]
        }
      ]
    },
    {
      "cell_type": "markdown",
      "metadata": {
        "id": "fF6mLAjCH_-i"
      },
      "source": [
        "Abaixo temos uma função que soma, a soma, dois vetores"
      ]
    },
    {
      "cell_type": "code",
      "metadata": {
        "id": "dg2QKglwH_-i"
      },
      "source": [
        "def sum_of_sum_vectors(array_1, array_2):\n",
        "    return (array_1 + array_2).sum()"
      ],
      "execution_count": null,
      "outputs": []
    },
    {
      "cell_type": "code",
      "metadata": {
        "id": "ALOsw7t1H_-j"
      },
      "source": [
        "x = np.array([1, 2])\n",
        "y = np.array([1, 2])"
      ],
      "execution_count": null,
      "outputs": []
    },
    {
      "cell_type": "code",
      "metadata": {
        "id": "ot4cjM3ZH_-j",
        "colab": {
          "base_uri": "https://localhost:8080/"
        },
        "outputId": "3b6e3178-4a3b-4f88-a0cf-8449f01c5fae"
      },
      "source": [
        "sum_of_sum_vectors(x, y)"
      ],
      "execution_count": null,
      "outputs": [
        {
          "output_type": "execute_result",
          "data": {
            "text/plain": [
              "6"
            ]
          },
          "metadata": {},
          "execution_count": 54
        }
      ]
    },
    {
      "cell_type": "markdown",
      "metadata": {
        "id": "u4m4hTjoH_-k"
      },
      "source": [
        "Abaixo temos um teste, tais testes vão avaliar o seu código. Nem todos estão aqui no notebook!"
      ]
    },
    {
      "cell_type": "code",
      "metadata": {
        "id": "JCGRPkG5H_-k"
      },
      "source": [
        "assert_equal(6, sum_of_sum_vectors(x, y))"
      ],
      "execution_count": null,
      "outputs": []
    },
    {
      "cell_type": "markdown",
      "metadata": {
        "id": "fAtQwPQ8H_-k"
      },
      "source": [
        "## Exercício 01\n",
        "\n",
        "Inicialmente, crie uma função que recebe duas listas de numéros, converte as duas para um vetor numpy usando `np.array` e retorna o produto interno das duas listas. \n",
        "\n",
        "__Dicas:__  \n",
        "1. Tente fazer um código sem nenhum **for**! Ou seja, numpy permite operações em vetores e matrizes, onde: `np.array([1, 2]) + np.array([2, 2]) = np.array([3, 4])`.\n",
        "\n",
        "__Funções:__\n",
        "1. `np.sum(array)` soma os elementos do array. `array.sum()` tem o mesmo efeito!"
      ]
    },
    {
      "cell_type": "code",
      "metadata": {
        "id": "E8ZlXoyyH_-l"
      },
      "source": [
        "def inner(array_1, array_2):\n",
        "    x = np.array(array_1)\n",
        "    y = np.array(array_2)\n",
        "    z = x*y\n",
        "    return z.sum()"
      ],
      "execution_count": null,
      "outputs": []
    },
    {
      "cell_type": "code",
      "metadata": {
        "id": "o2u2fOSQH_-l"
      },
      "source": [
        "x1 = np.array([2, 4, 8])\n",
        "x2 = np.array([10, 100, 1000])\n",
        "assert_equal(20 + 400 + 8000, inner(x1, x2))"
      ],
      "execution_count": null,
      "outputs": []
    },
    {
      "cell_type": "markdown",
      "metadata": {
        "id": "bqA30wyuH_-l"
      },
      "source": [
        "## Exercício 02\n",
        "\n",
        "Implemente uma função utilizando numpy que recebe duas matrizes, multiplica as duas e retorne o valor médio das células da multiplicação. Por exemplo, ao multiplicar:\n",
        "\n",
        "```\n",
        "[1 2]\n",
        "[3 4] \n",
        "\n",
        "com \n",
        "\n",
        "[2 1]\n",
        "[1 2]\n",
        "\n",
        "temos\n",
        "\n",
        "[4  5 ]\n",
        "[10 11]\n",
        "\n",
        "onde a média de [4, 5, 10, 11] é\n",
        "\n",
        "7.5, sua resposta final!\n",
        "```\n",
        "\n",
        "\n",
        "__Dicas:__  \n",
        "1. Use o operador @ para multiplicar matrizes!"
      ]
    },
    {
      "cell_type": "code",
      "metadata": {
        "id": "9p2XnoW2H_-m"
      },
      "source": [
        "def medmult(X_1, X_2):\n",
        "    return (X_1 @ X_2).mean()"
      ],
      "execution_count": null,
      "outputs": []
    },
    {
      "cell_type": "code",
      "metadata": {
        "id": "zFR5jpu3H_-m"
      },
      "source": [
        "X = np.array([1, 2, 3, 4]).reshape(2, 2)\n",
        "Y = np.array([2, 1, 1, 2]).reshape(2, 2)\n",
        "assert_equal(7.5, medmult(X, Y))"
      ],
      "execution_count": null,
      "outputs": []
    }
  ]
}